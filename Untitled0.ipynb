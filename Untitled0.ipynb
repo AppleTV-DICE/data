{
  "nbformat": 4,
  "nbformat_minor": 0,
  "metadata": {
    "colab": {
      "provenance": []
    },
    "kernelspec": {
      "name": "python3",
      "display_name": "Python 3"
    },
    "language_info": {
      "name": "python"
    }
  },
  "cells": [
    {
      "cell_type": "markdown",
      "source": [
        "n차배열3"
      ],
      "metadata": {
        "id": "H5ZBJ93bF5oO"
      }
    },
    {
      "cell_type": "code",
      "execution_count": 3,
      "metadata": {
        "colab": {
          "base_uri": "https://localhost:8080/"
        },
        "id": "WgLhhnOn8m69",
        "outputId": "1d836c10-bc62-4a86-febf-81b05822b0a3"
      },
      "outputs": [
        {
          "output_type": "stream",
          "name": "stdout",
          "text": [
            "[1, 2, 3, 4, 5]\n",
            "[1 2 3 4 5]\n"
          ]
        }
      ],
      "source": [
        "import numpy as np\n",
        "list = [1,2,3,4,5]\n",
        "print(list)\n",
        "arr = np.array(list)\n",
        "print(arr)"
      ]
    },
    {
      "cell_type": "markdown",
      "source": [
        "n차배열1"
      ],
      "metadata": {
        "id": "l-GPMTfCINih"
      }
    },
    {
      "cell_type": "code",
      "source": [
        "import numpy as np\n",
        "list = [1,2,3,4,5]\n",
        "print(list)\n",
        "arr = np.array(list)\n",
        "print(arr)\n",
        "\n",
        "print(type(list))\n",
        "print(type(arr))"
      ],
      "metadata": {
        "colab": {
          "base_uri": "https://localhost:8080/"
        },
        "id": "QJCv6L3w_8-M",
        "outputId": "e0b3b064-8e6c-4758-f68d-8c205a817777"
      },
      "execution_count": 11,
      "outputs": [
        {
          "output_type": "stream",
          "name": "stdout",
          "text": [
            "[1, 2, 3, 4, 5]\n",
            "[1 2 3 4 5]\n",
            "<class 'list'>\n",
            "<class 'numpy.ndarray'>\n"
          ]
        }
      ]
    },
    {
      "cell_type": "markdown",
      "source": [
        "n차배열2"
      ],
      "metadata": {
        "id": "1nSlRAA-Qa7H"
      }
    },
    {
      "cell_type": "code",
      "source": [
        "arr1 = np.array([1,2,3,4,5])\n",
        "print(arr1)\n",
        "\n",
        "arr2 = np.array([[1,2],\n",
        "                [3,4],\n",
        "                [5,6]])\n",
        "print(arr2)\n"
      ],
      "metadata": {
        "colab": {
          "base_uri": "https://localhost:8080/"
        },
        "id": "iHSjLHH1A7vx",
        "outputId": "72248b18-c2d3-4525-9694-7989ba677000"
      },
      "execution_count": 100,
      "outputs": [
        {
          "output_type": "stream",
          "name": "stdout",
          "text": [
            "[1 2 3 4 5]\n",
            "[[1 2]\n",
            " [3 4]\n",
            " [5 6]]\n"
          ]
        }
      ]
    },
    {
      "cell_type": "code",
      "source": [
        "arr1 = np.array([1,2,3,4,5])\n",
        "print(arr1)\n",
        "\n",
        "arr2 = np.array([[1,2],\n",
        "                [3,4],\n",
        "                [5,6]])\n",
        "print(arr2)\n",
        "\n",
        "print(arr1.shape)\n",
        "print(arr2.shape)"
      ],
      "metadata": {
        "colab": {
          "base_uri": "https://localhost:8080/"
        },
        "id": "yZZbQdjZAZOX",
        "outputId": "e63fe545-8cf9-4c76-feed-588ee5ac6fbe"
      },
      "execution_count": 14,
      "outputs": [
        {
          "output_type": "stream",
          "name": "stdout",
          "text": [
            "[1 2 3 4 5]\n",
            "[[1 2]\n",
            " [3 4]\n",
            " [5 6]]\n",
            "(5,)\n",
            "(3, 2)\n"
          ]
        }
      ]
    },
    {
      "cell_type": "markdown",
      "source": [
        "random함수로 만들기1"
      ],
      "metadata": {
        "id": "ZoZRRzAhBlrA"
      }
    },
    {
      "cell_type": "code",
      "source": [
        "np.random.random((2,3))"
      ],
      "metadata": {
        "colab": {
          "base_uri": "https://localhost:8080/"
        },
        "id": "lvhAn6XwBOMg",
        "outputId": "dd14814d-c3bc-4bc2-f2c3-f458d7fc7444"
      },
      "execution_count": 25,
      "outputs": [
        {
          "output_type": "execute_result",
          "data": {
            "text/plain": [
              "array([[0.45963386, 0.73458035, 0.44038649],\n",
              "       [0.89073151, 0.17914787, 0.48282212]])"
            ]
          },
          "metadata": {},
          "execution_count": 25
        }
      ]
    },
    {
      "cell_type": "markdown",
      "source": [
        "rnadom함수로 만들기2"
      ],
      "metadata": {
        "id": "NrCOCTNMBq0Y"
      }
    },
    {
      "cell_type": "code",
      "source": [
        "#np.random.randint(0,100, size = (3,7))\n",
        "np.random.randint(0,10, size = (2,3))"
      ],
      "metadata": {
        "colab": {
          "base_uri": "https://localhost:8080/"
        },
        "id": "83YAyySBBUJe",
        "outputId": "9ef528cb-36fb-45b6-ff72-dc7c63da2360"
      },
      "execution_count": 41,
      "outputs": [
        {
          "output_type": "execute_result",
          "data": {
            "text/plain": [
              "array([[6, 5, 1],\n",
              "       [2, 7, 5]])"
            ]
          },
          "metadata": {},
          "execution_count": 41
        }
      ]
    },
    {
      "cell_type": "markdown",
      "source": [
        "특정 범위의 숫자를 배열로 생성하기1"
      ],
      "metadata": {
        "id": "DUCOQRVECiaq"
      }
    },
    {
      "cell_type": "code",
      "source": [
        "#1~10까지 정수로 이루어진 넘파이 배열 만들기\n",
        "arr = np.arange(1,11)\n",
        "print(arr)"
      ],
      "metadata": {
        "colab": {
          "base_uri": "https://localhost:8080/"
        },
        "id": "XirCcOXwCg-b",
        "outputId": "8b8f164d-14cf-4ad0-fb13-113def2d672b"
      },
      "execution_count": 43,
      "outputs": [
        {
          "output_type": "stream",
          "name": "stdout",
          "text": [
            "[ 1  2  3  4  5  6  7  8  9 10]\n"
          ]
        }
      ]
    },
    {
      "cell_type": "markdown",
      "source": [
        "특정 범위의 숫자를 배열로 생성하기2"
      ],
      "metadata": {
        "id": "XhYEHh2MDvQi"
      }
    },
    {
      "cell_type": "code",
      "source": [
        "#1~2까지 0.1 간격의 소수로이루어진 넘파이 배열 만들기\n",
        "arr = np.arange(1,2, 0.1)\n",
        "print(arr)"
      ],
      "metadata": {
        "colab": {
          "base_uri": "https://localhost:8080/"
        },
        "id": "tMzSQz6CDA--",
        "outputId": "f998f91e-2248-4634-9d40-9a2091293fe1"
      },
      "execution_count": 50,
      "outputs": [
        {
          "output_type": "stream",
          "name": "stdout",
          "text": [
            "[1.  1.1 1.2 1.3 1.4 1.5 1.6 1.7 1.8 1.9]\n"
          ]
        }
      ]
    },
    {
      "cell_type": "markdown",
      "source": [
        "Numpy데이터이해1"
      ],
      "metadata": {
        "id": "DvhbMimkIA_t"
      }
    },
    {
      "cell_type": "code",
      "source": [
        "arr = np.array([1, 'a', 3])\n",
        "print(arr)"
      ],
      "metadata": {
        "colab": {
          "base_uri": "https://localhost:8080/"
        },
        "id": "BIOIWafd-EfP",
        "outputId": "2d11cfc5-44aa-48ee-dbed-453bded1960b"
      },
      "execution_count": 4,
      "outputs": [
        {
          "output_type": "stream",
          "name": "stdout",
          "text": [
            "['1' 'a' '3']\n"
          ]
        }
      ]
    },
    {
      "cell_type": "markdown",
      "source": [
        "numpy데이터이해2"
      ],
      "metadata": {
        "id": "8e9amQ3IIBnY"
      }
    },
    {
      "cell_type": "code",
      "source": [
        "arr = np.array([1,2,0.3])\n",
        "print(arr)"
      ],
      "metadata": {
        "colab": {
          "base_uri": "https://localhost:8080/"
        },
        "id": "aBdSW6s0-YVp",
        "outputId": "b92afc26-82b3-48c1-8d63-012b643e4403"
      },
      "execution_count": 5,
      "outputs": [
        {
          "output_type": "stream",
          "name": "stdout",
          "text": [
            "[1.  2.  0.3]\n"
          ]
        }
      ]
    },
    {
      "cell_type": "markdown",
      "source": [
        "특정 값을 인덱싱하여 가져오기1"
      ],
      "metadata": {
        "id": "dnskefVaER-L"
      }
    },
    {
      "cell_type": "code",
      "source": [
        "arr = np.array([1,2,3,4,5])\n",
        "arr[2]"
      ],
      "metadata": {
        "colab": {
          "base_uri": "https://localhost:8080/"
        },
        "id": "QWCqdMbk-6Vj",
        "outputId": "c702602b-2b2e-4a65-f21e-97535e73c264"
      },
      "execution_count": 7,
      "outputs": [
        {
          "output_type": "execute_result",
          "data": {
            "text/plain": [
              "3"
            ]
          },
          "metadata": {},
          "execution_count": 7
        }
      ]
    },
    {
      "cell_type": "markdown",
      "source": [
        "특정 값을 인덱싱하여 가져오기2"
      ],
      "metadata": {
        "id": "okmyQoxqEiUT"
      }
    },
    {
      "cell_type": "code",
      "source": [
        "arr = np.array([1,2,3,4,5])\n",
        "arr[-3]"
      ],
      "metadata": {
        "colab": {
          "base_uri": "https://localhost:8080/"
        },
        "id": "p1glhj8v_LZA",
        "outputId": "5b909adc-61bc-43d6-86eb-e0c27036910f"
      },
      "execution_count": 8,
      "outputs": [
        {
          "output_type": "execute_result",
          "data": {
            "text/plain": [
              "3"
            ]
          },
          "metadata": {},
          "execution_count": 8
        }
      ]
    },
    {
      "cell_type": "markdown",
      "source": [
        "특정 값을 인덱싱하여 가져오기3"
      ],
      "metadata": {
        "id": "k4pkkerYEk_u"
      }
    },
    {
      "cell_type": "code",
      "source": [
        "arr = np.array([2,6,8,9,12,23,27,32,35])\n",
        "arr[0:8:2]"
      ],
      "metadata": {
        "colab": {
          "base_uri": "https://localhost:8080/"
        },
        "id": "Kmhm6S8w_a__",
        "outputId": "8a21f74b-6363-4732-98c7-11a738e1e75e"
      },
      "execution_count": 9,
      "outputs": [
        {
          "output_type": "execute_result",
          "data": {
            "text/plain": [
              "array([ 2,  8, 12, 27])"
            ]
          },
          "metadata": {},
          "execution_count": 9
        }
      ]
    },
    {
      "cell_type": "markdown",
      "source": [
        "특정 값을 인덱싱하여 가져오기4"
      ],
      "metadata": {
        "id": "g5IGc12DEmjf"
      }
    },
    {
      "cell_type": "code",
      "source": [
        "arr = np.array([2,6,8,9,12,23,27,32,35])\n",
        "arr[::2]"
      ],
      "metadata": {
        "colab": {
          "base_uri": "https://localhost:8080/"
        },
        "id": "S04XiP8M_lct",
        "outputId": "a126c202-1742-48e6-cc1d-0c0a260f7b0d"
      },
      "execution_count": 10,
      "outputs": [
        {
          "output_type": "execute_result",
          "data": {
            "text/plain": [
              "array([ 2,  8, 12, 27, 35])"
            ]
          },
          "metadata": {},
          "execution_count": 10
        }
      ]
    },
    {
      "cell_type": "markdown",
      "source": [
        "Numpy배열 간의 +연산"
      ],
      "metadata": {
        "id": "Y4rNc7F_Eqzf"
      }
    },
    {
      "cell_type": "code",
      "source": [
        "import numpy as np\n",
        "arr1 = np.array([2,4,6,8,10])\n",
        "arr2 = np.array([5,10,15,20,25])\n",
        "result = arr1+arr2\n",
        "print(result)"
      ],
      "metadata": {
        "colab": {
          "base_uri": "https://localhost:8080/"
        },
        "id": "ABxJ4gXPErHF",
        "outputId": "0aff7ef4-6cc3-4159-d6aa-c4fba2697b74"
      },
      "execution_count": 51,
      "outputs": [
        {
          "output_type": "stream",
          "name": "stdout",
          "text": [
            "[ 7 14 21 28 35]\n"
          ]
        }
      ]
    },
    {
      "cell_type": "markdown",
      "source": [
        "Numpy배열 간의 -연산"
      ],
      "metadata": {
        "id": "OTUVhYkJFLga"
      }
    },
    {
      "cell_type": "code",
      "source": [
        "import numpy as np\n",
        "arr1 = np.array([2,4,6,8,10])\n",
        "arr2 = np.array([5,10,15,20,25])\n",
        "result = arr1-arr2\n",
        "print(result)"
      ],
      "metadata": {
        "colab": {
          "base_uri": "https://localhost:8080/"
        },
        "id": "_ldN3PCjFKCz",
        "outputId": "b0568ef5-9070-46b5-ec6a-6ffe36399079"
      },
      "execution_count": 54,
      "outputs": [
        {
          "output_type": "stream",
          "name": "stdout",
          "text": [
            "[ -3  -6  -9 -12 -15]\n"
          ]
        }
      ]
    },
    {
      "cell_type": "markdown",
      "source": [
        "Numpy배열 간의 X연산"
      ],
      "metadata": {
        "id": "U3fPKfOjFL3_"
      }
    },
    {
      "cell_type": "code",
      "source": [
        "import numpy as np\n",
        "arr1 = np.array([2,4,6,8,10])\n",
        "arr2 = np.array([5,10,15,20,25])\n",
        "result = arr1*arr2\n",
        "print(result)"
      ],
      "metadata": {
        "colab": {
          "base_uri": "https://localhost:8080/"
        },
        "id": "c6cVUmhJFKk5",
        "outputId": "198c0a4f-6341-469e-a3ea-517bf960825f"
      },
      "execution_count": 53,
      "outputs": [
        {
          "output_type": "stream",
          "name": "stdout",
          "text": [
            "[ 10  40  90 160 250]\n"
          ]
        }
      ]
    },
    {
      "cell_type": "markdown",
      "source": [
        "Numpy배열 간의 ÷연산"
      ],
      "metadata": {
        "id": "f4DabIo4FMlZ"
      }
    },
    {
      "cell_type": "code",
      "source": [
        "import numpy as np\n",
        "arr1 = np.array([2,4,6,8,10])\n",
        "arr2 = np.array([5,10,15,20,25])\n",
        "result = arr1/arr2\n",
        "print(result)"
      ],
      "metadata": {
        "colab": {
          "base_uri": "https://localhost:8080/"
        },
        "id": "6tGcAY25FK5I",
        "outputId": "177cc21a-60ae-46be-c8bf-ecef880e6fbb"
      },
      "execution_count": 52,
      "outputs": [
        {
          "output_type": "stream",
          "name": "stdout",
          "text": [
            "[0.4 0.4 0.4 0.4 0.4]\n"
          ]
        }
      ]
    },
    {
      "cell_type": "markdown",
      "source": [
        "Numpy순서대로 정렬 코드1"
      ],
      "metadata": {
        "id": "ajLMzqjlGUTp"
      }
    },
    {
      "cell_type": "code",
      "source": [
        "nii = np.array([1,8,16,19,27,28,55])\n",
        "#nii = np.array([8,19,16,55,27,28,1])\n",
        "np.sort(nii)[::-1]\n"
      ],
      "metadata": {
        "colab": {
          "base_uri": "https://localhost:8080/"
        },
        "id": "oPI5EUX5F2n9",
        "outputId": "598acda2-f90b-46f3-b503-e3e60cfc4e77"
      },
      "execution_count": 67,
      "outputs": [
        {
          "output_type": "execute_result",
          "data": {
            "text/plain": [
              "array([55, 28, 27, 19, 16,  8,  1])"
            ]
          },
          "metadata": {},
          "execution_count": 67
        }
      ]
    },
    {
      "cell_type": "markdown",
      "source": [
        "마무리미션(2주차)\n",
        "카페 매출 구하기1"
      ],
      "metadata": {
        "id": "vGgMxeQgI57L"
      }
    },
    {
      "cell_type": "code",
      "source": [
        "coffee = [87,63,64,110,144,43,69,53,133,55,78,123,63,101]\n",
        "waffle = [87,36,32,101,41,78,115,31,53,11,13,119,25,65]\n",
        "coffee=np.array(coffee) *3400\n",
        "waffle = np.array(waffle) * 6700\n",
        "print(coffee)\n",
        "print(waffle)"
      ],
      "metadata": {
        "colab": {
          "base_uri": "https://localhost:8080/"
        },
        "id": "_fV8BouZIkBb",
        "outputId": "cacaecdf-b375-4184-cc45-53db0b4be28f"
      },
      "execution_count": 69,
      "outputs": [
        {
          "output_type": "stream",
          "name": "stdout",
          "text": [
            "[295800 214200 217600 374000 489600 146200 234600 180200 452200 187000\n",
            " 265200 418200 214200 343400]\n",
            "[582900 241200 214400 676700 274700 522600 770500 207700 355100  73700\n",
            "  87100 797300 167500 435500]\n"
          ]
        }
      ]
    },
    {
      "cell_type": "markdown",
      "source": [
        "마무리미션(2주차) 카페 매출 구하기2"
      ],
      "metadata": {
        "id": "JN-lSjXxQTWB"
      }
    },
    {
      "cell_type": "code",
      "source": [
        "coffee = [87,63,64,110,144,143,69,53,133,55,78,123,63,101]\n",
        "waffle = [87,36,32,101,41,78,115,31,53,11,13,119,25,65]\n",
        "coffee=np.array(coffee) *3400\n",
        "waffle = np.array(waffle) * 6700\n",
        "print(coffee)\n",
        "print(\" \")\n",
        "print(waffle)\n",
        "print(\" \")\n",
        "coffee[0:13]\n",
        "print(sum(coffee))\n",
        "print(sum(coffee)/15)\n",
        "print(\" \")\n",
        "waffle[0:13]\n",
        "print(sum(waffle))\n",
        "print(sum(waffle)/14)\n",
        "\n",
        "total = coffee + waffle\n",
        "print(\" \")\n",
        "filter = np.where(total <= 450000)\n",
        "print(\" \")\n",
        "print(filter)\n",
        "print(total[filter])\n",
        "print(\" \")\n",
        "print(total)\n",
        "print(\" \")\n",
        "print(\"일일 커피와 와플의 매출은 {}원입니다.\".format(sum(total)))\n",
        "print(\"일일 커피와 와플의 평균 매출은 {}원입니다.\".format(int(sum(total) / len(total))))\n",
        "print(\" \")\n",
        "print(\"커피의 총 매출은 {}원입니다\".format(sum(coffee)))\n",
        "print(\"와플의 총 매출은 {}원입니다\".format(sum(waffle)))\n",
        "print(\" \")\n",
        "print(\"커피의 평균 매출은 {}원입니다\".format(int(sum(coffee)/ len(coffee))))\n",
        "print(\"커피의 평균 매출은 {}원입니다\".format(int(sum(waffle)/ len(waffle))))"
      ],
      "metadata": {
        "colab": {
          "base_uri": "https://localhost:8080/"
        },
        "id": "nPN80-rMJ5Z2",
        "outputId": "f30e01f0-8a29-42b7-bdda-61b8b5563307"
      },
      "execution_count": 99,
      "outputs": [
        {
          "output_type": "stream",
          "name": "stdout",
          "text": [
            "[295800 214200 217600 374000 489600 486200 234600 180200 452200 187000\n",
            " 265200 418200 214200 343400]\n",
            " \n",
            "[582900 241200 214400 676700 274700 522600 770500 207700 355100  73700\n",
            "  87100 797300 167500 435500]\n",
            " \n",
            "4372400\n",
            "291493.3333333333\n",
            " \n",
            "5406900\n",
            "386207.14285714284\n",
            " \n",
            " \n",
            "(array([ 2,  7,  9, 10, 12]),)\n",
            "[432000 387900 260700 352300 381700]\n",
            " \n",
            "[ 878700  455400  432000 1050700  764300 1008800 1005100  387900  807300\n",
            "  260700  352300 1215500  381700  778900]\n",
            " \n",
            "일일 커피와 와플의 매출은 9779300원입니다.\n",
            "일일 커피와 와플의 평균 매출은 698521원입니다.\n",
            " \n",
            "커피의 총 매출은 4372400원입니다\n",
            "와플의 총 매출은 5406900원입니다\n",
            " \n",
            "커피의 평균 매출은 312314원입니다\n",
            "커피의 평균 매출은 386207원입니다\n"
          ]
        }
      ]
    },
    {
      "cell_type": "code",
      "source": [
        "l=[1,2,3,4,5]\n",
        "print(sum(l))"
      ],
      "metadata": {
        "colab": {
          "base_uri": "https://localhost:8080/"
        },
        "id": "zjRP4JPgKt2q",
        "outputId": "0f920750-151c-4b4c-a65e-6c781defdba0"
      },
      "execution_count": 71,
      "outputs": [
        {
          "output_type": "stream",
          "name": "stdout",
          "text": [
            "15\n"
          ]
        }
      ]
    }
  ]
}